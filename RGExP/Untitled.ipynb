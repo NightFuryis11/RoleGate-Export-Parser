{
 "cells": [
  {
   "cell_type": "code",
   "execution_count": 113,
   "id": "bd97a149-6497-41f6-8b27-f19cdde95a18",
   "metadata": {},
   "outputs": [],
   "source": [
    "import os\n",
    "import sys\n",
    "import json\n",
    "\n",
    "from operator import attrgetter"
   ]
  },
  {
   "cell_type": "code",
   "execution_count": 160,
   "id": "c619e205-3d13-4abf-9cbe-605029895e09",
   "metadata": {},
   "outputs": [],
   "source": [
    "with open(\"New_Albion_Beautified.json\") as o:\n",
    "    file = json.load(o)"
   ]
  },
  {
   "cell_type": "code",
   "execution_count": 145,
   "id": "d535716d-134e-49b4-935f-102f93e9df77",
   "metadata": {},
   "outputs": [],
   "source": [
    "class Message(object):\n",
    "    mid = 0\n",
    "    party = None\n",
    "    content = ''\n",
    "    author = {\n",
    "        \"aid\":\"0\",\n",
    "        \"sheet\":\"0\",\n",
    "        \"name\":\"\"\n",
    "    }\n",
    "    tone = ''\n",
    "    created = ''\n",
    "    whisperedto = []\n",
    "    isdescription = False\n",
    "    isstorytelling = False\n",
    "    \n",
    "    def __init__(self, dictionary):\n",
    "        self.mid = dictionary['mid']\n",
    "        self.party = dictionary['pid']\n",
    "        self.content = dictionary['content']\n",
    "        self.aid = dictionary['aid']\n",
    "        self.sheet = dictionary['sheet']\n",
    "        self.name = dictionary['name']\n",
    "        self.tone = dictionary['tone']\n",
    "        self.whisperedto = dictionary['whisperedto']\n",
    "        self.created = dictionary['created']\n",
    "        self.isdescription = dictionary['isdescription']\n",
    "        self.isstorytelling = dictionary['isstorytelling']\n",
    "        \n",
    "    def read(self):\n",
    "        values = {\n",
    "            'mid':self.mid,\n",
    "            'pid':self.party,\n",
    "            'content':self.content,\n",
    "            'aid':self.aid,\n",
    "            'sheet':self.sheet,\n",
    "            'name':self.name,\n",
    "            'tone':self.tone,\n",
    "            'whisperedto':self.whisperedto,\n",
    "            'created':self.created,\n",
    "            'isdescription':self.isdescription,\n",
    "            'isstorytelling':self.isstorytelling\n",
    "        }\n",
    "        return values\n",
    "\n",
    "def NewMessage(dictionary):\n",
    "    message = Message(dictionary)\n",
    "    return message\n",
    "    \n",
    "class Roll(object):\n",
    "    mid = 0\n",
    "    content = ''\n",
    "    action = {\n",
    "        \"name\":\"\"\n",
    "    }\n",
    "    author = {\n",
    "        \"aid\":\"0\",\n",
    "        \"sheet\":\"0\",\n",
    "        \"name\":\"\"\n",
    "    }\n",
    "    created = ''\n",
    "    result = []"
   ]
  },
  {
   "cell_type": "code",
   "execution_count": 159,
   "id": "6948c51b-e041-4bec-a08e-ce6d88fc99ac",
   "metadata": {},
   "outputs": [
    {
     "name": "stdout",
     "output_type": "stream",
     "text": [
      "     Aria: Hope I'm not stepping on any toes skills-wise, mate. Regardless, due to that overlap you're probably the only one here Aria is actually going to have some respect for!\n",
      "     Wrenn Wsunn (amused): Oh boy.\n",
      "     Narrator (description): As you approach the city of New Albion by land or by sea, you see two buildings before anything else. One is your standard Castle, a massive stone fortress on a cliff giving it a view of both the ocean and the city it protects. The other is a somewhat less massive domed building that seems to be the city's center piece.\n",
      "     Narrator (description): You join the throng of adventurers headed to the castle and can't help but notice the strange signs of damage. There's the standard fire remnants of course, but one building looks waterlogged and it's neighbors are untouched. Further on a building's pieces hover in an arcane field and several mages are arguing over how to fix it.\n",
      "     Narrator (description): Then there are the weirdly placed statues. Some look terrified, others look surprised, but all are in awkward places. It's clear something weird is going on.\n",
      "     Narrator (description): The mass of would be heros, or mercenaries, is herded into the castle's Great Hall.\n",
      "     Lord Chamberlain Geoffrey: A middle aged man in a three piece suit and wearing a gilded chain around his neck, takes position at the front of the room.\n",
      "     Lord Chamberlain Geoffrey (friendly): *magically amplified* Welcome to New Albion, friends. I am the Lord Chamberlain, which is basically the Chief Steward or Kin-Queen's hand for our foreign guests.\n",
      "     Narrator (description): Everyone hears his words in their native tongues.\n",
      "     Lorien: A slim-muscular elven man with blond hair kept his focus to Lord Chamberlain and with respect, he bowed to the chief steward with respect.\n",
      "     Lorien (kind): Pleased to be at your acquaintance Lord Chamberlain\n",
      "     Lord Chamberlain Geoffrey (friendly): @Lorien#112528 Well met, Ser Elf.\n",
      "     Lord Chamberlain Geoffrey (friendly): Now Her Majesty has a fondness for the number six, so if your company numbers more than that, I regretfully must ask you to leave. Your travel expenses will be compensated and you have rooms for the night of course, so please enjoy our city. Any companies lower in number, I hope you can make friends.\n",
      "     Lord Chamberlain Geoffrey: He checks a scroll.\n",
      "     Lord Chamberlain Geoffrey (friendly): Let's begin the interview with the regestered Companies. Morgan's Marauders?\n",
      "     Narrator (description): He leads the summoned group, who very hastily drew lots to get down to six, into another room. Several more groups leave and a few other beings start to mingle.\n",
      "     Shadow of A Valiant Soul: A large humanoid, bulky under layers of chain mail and gambeson, stands amongst the crowd and surveys for someone to bully into being their plus five.\n",
      "\n",
      "The figure is tall, towering a half foot or more over most, and holds themself with effortless confidence. Several bags hang upon their back, as well as a small wooden chest, and what seems to be a massive bovid horn that has been crudely sawn off at the base. A pair of hatchets are tied to their hip, though these seem more suited for utility than combat. Strangely, they otherwise appear to unarmed.\n",
      "\n",
      "Their flat-topped helm bears a human face. The shade falls over the visage and seems pull its lips into a grimace. Its gaze falls upon the elf that spoke.\n",
      "     Shadow of A Valiant Soul (pressing): Hey, Elf! Get over here!\n",
      "     Lorien: The elf noticed the tall humanoid calling out to him and he made a look displaying he wasn't a fan of the man's ordering tone to him, but without saying anything, he went towards where the man pointed towards\n",
      "     Shadow of A Valiant Soul: The figure takes one step closer to the elf as he approachs.\n",
      "     Shadow of A Valiant Soul (serious): You spoken for? No? Good. You work with me now.\n"
     ]
    }
   ],
   "source": [
    "message = {}\n",
    "Messages = []\n",
    "partyid = None\n",
    "limiter = 0\n",
    "for party in file: # Each party has a party and a content division. This splits the file up into parties (party/content pairs)\n",
    "    if isinstance(party, dict): # Each segment of a party/content division is a dictionary\n",
    "        for key, values in party.items():\n",
    "            if key == 'party': # Here we get each party's id number\n",
    "                if values != None:\n",
    "                    partyid = values['id']\n",
    "                else:\n",
    "                    partyid = None\n",
    "            elif key == 'content': # Here we parse the actual content of the parties. Each 'field' is a message or a roll.\n",
    "                for field in values:\n",
    "                    if limiter > 20:\n",
    "                        break\n",
    "                    if isinstance(field, dict):\n",
    "                        message.update({\n",
    "                            'mid':f\"{field.setdefault('id', None)}\",\n",
    "                            'pid':f\"{partyid}\",\n",
    "                            'content':f\"{field.setdefault('content', None)}\",\n",
    "                            'tone':f\"{field.setdefault('tone', None)}\", # No tone is already stored as str('None'), so asking if message.tone == None will always be false. Instead check message.tone == \"None\"\n",
    "                            'whisperedto':f\"{str(field.setdefault('whispered_to', None)).replace('[','').replace(']','')}\",\n",
    "                            'created':f\"{field.setdefault('created', None)}\",\n",
    "                            'isdescription':f\"{field.setdefault('is_description', False)}\",\n",
    "                            'isstorytelling':f\"{field.setdefault('is_storytelling', None)}\"\n",
    "                        })\n",
    "                        if 'author' in field:\n",
    "                            message.update({\n",
    "                                'aid':f\"{field['author'].setdefault('id', None)}\",\n",
    "                                'sheet':f\"{field['author'].setdefault('sheet', None)}\",\n",
    "                                'name':f\"{field['author'].setdefault('name_then', None)}\"\n",
    "                            })\n",
    "                        else:\n",
    "                            message.update({\n",
    "                                'aid':None,\n",
    "                                'sheet':None,\n",
    "                                'name':None\n",
    "                            })\n",
    "                    m = NewMessage(message)\n",
    "                    Messages.append(m)\n",
    "                    limiter += 1\n",
    "mss = 0\n",
    "Messages.sort(key=attrgetter('mid'))\n",
    "while mss < len(Messages):\n",
    "    r = Messages[mss]\n",
    "    if r.aid == None:\n",
    "        print(f\"     Narrator (description): {r.content}\")\n",
    "    elif r.isdescription == True:\n",
    "        print(f\"     {r.name} (description): {r.content}\")\n",
    "    elif r.tone != \"None\":\n",
    "        print(f\"     {r.name} ({r.tone}): {r.content}\")\n",
    "    else:\n",
    "        print(f\"     {r.name}: {r.content}\")\n",
    "    mss += 1"
   ]
  },
  {
   "cell_type": "code",
   "execution_count": 23,
   "id": "b6abd892-e587-4117-be4a-9f04b19b5bab",
   "metadata": {},
   "outputs": [
    {
     "data": {
      "text/plain": [
       "list"
      ]
     },
     "execution_count": 23,
     "metadata": {},
     "output_type": "execute_result"
    }
   ],
   "source": [
    "type(file)"
   ]
  },
  {
   "cell_type": "code",
   "execution_count": null,
   "id": "37bef87d-3525-47d7-86cc-3435ab895074",
   "metadata": {},
   "outputs": [],
   "source": []
  }
 ],
 "metadata": {
  "kernelspec": {
   "display_name": "Python 3 (ipykernel)",
   "language": "python",
   "name": "python3"
  },
  "language_info": {
   "codemirror_mode": {
    "name": "ipython",
    "version": 3
   },
   "file_extension": ".py",
   "mimetype": "text/x-python",
   "name": "python",
   "nbconvert_exporter": "python",
   "pygments_lexer": "ipython3",
   "version": "3.9.7"
  }
 },
 "nbformat": 4,
 "nbformat_minor": 5
}
